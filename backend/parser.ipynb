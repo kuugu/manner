{
 "cells": [
  {
   "cell_type": "code",
   "execution_count": 1,
   "metadata": {},
   "outputs": [],
   "source": [
    "from enum import Enum \n",
    "\n",
    "import re "
   ]
  },
  {
   "cell_type": "code",
   "execution_count": 2,
   "metadata": {},
   "outputs": [],
   "source": [
    "direct_copy_file = '/home/kuugu/Projects/manner/backend/data.txt'\n",
    "\n",
    "metadata_dict = {}"
   ]
  },
  {
   "cell_type": "code",
   "execution_count": 3,
   "metadata": {},
   "outputs": [],
   "source": [
    "data_str = '' \n",
    "\n",
    "with open(direct_copy_file, 'r') as f:\n",
    "    data_str = f.read() \n"
   ]
  },
  {
   "cell_type": "code",
   "execution_count": 4,
   "metadata": {},
   "outputs": [
    {
     "name": "stdout",
     "output_type": "stream",
     "text": [
      "1.29\n"
     ]
    }
   ],
   "source": [
    "# split the pages \n",
    "page_strs = re.split('----P[0-9][0-9][0-9]', data_str)\n",
    "page_strs = list(map(lambda x: x.strip(), page_strs))\n",
    "\n",
    "progress_percent = 100 * sum(map(lambda x: 0 if len(x) == 0 else 1, page_strs))/len(page_strs)\n",
    "progress_percent = round(progress_percent, 2)\n",
    "\n",
    "metadata_dict['project_progress_pct'] = progress_percent\n",
    "\n",
    "print (metadata_dict['project_progress_pct'])"
   ]
  },
  {
   "cell_type": "code",
   "execution_count": 5,
   "metadata": {},
   "outputs": [],
   "source": [
    "# parsing rules: \n",
    "# [R1] first line should be entirely in kannada, they are all kannada words \n",
    "# [R2] first line contains the word, if multiple forms are present they are comma separated \n",
    "# [R3] if the word is a verb, it might have the root word. root word is always in (brackets)\n",
    "# [R4] second line can be the type of word (verb, noun, etc..), if it's not, it is the start of the meaning\n",
    "# [R5] there cannot be only one line, this means there's no meaning provided \n",
    "\n",
    "word_type = {\n",
    "    's.': 'substantive', \n",
    "    'v.a.': 'verb active', \n",
    "    'v.n.': 'verb neuter', \n",
    "    'vlg.': 'vulgar word', \n",
    "    'fg.': 'figurative', \n",
    "}\n",
    "\n",
    "class ParseOptions(Enum): \n",
    "    EXPAND = 1 \n",
    "    NO_EXPAND = 2 \n",
    "\n",
    "class ParseOutputType(Enum): \n",
    "    EMPTY = 1 \n",
    "    NO_DATA = 2 \n",
    "    NOT_KANNADA = 3  \n",
    "    PARSE_SUCCESS = 4 \n",
    "\n",
    "def is_kannada(word): \n",
    "    for ch in word: \n",
    "        if not ((0x0C80 <= ch <= 0x0CFF) or (ch in (' ', ')', '('))): \n",
    "            return False\n",
    "    return True \n",
    "\n",
    "def flatten_list(nested_list: list): \n",
    "    ret_list = [] \n",
    "\n",
    "    if len(nested_list) == 0:\n",
    "        return ret_list \n",
    "    else: \n",
    "        for elem in nested_list: \n",
    "            if type(elem) == list:\n",
    "                ret_list = ret_list + flatten_list(elem) \n",
    "            else: \n",
    "                ret_list.append(elem) \n",
    "    return ret_list\n",
    "\n",
    "\n",
    "def get_kannada_words(line) -> list[str]: \n",
    "    kannada_words = [] \n",
    "\n",
    "    parsed_line = line.split()\n",
    "    parsed_line = flatten_list(list(map(lambda x: x.split(','), parsed_line)))\n",
    "    parsed_line = list(filter(lambda x: len(x)>0, parsed_line))\n",
    "\n",
    "    # NOTE (kuugu): I am assuming the data is correct here \n",
    "    #               we need to build the CFG checker later \n",
    "\n",
    "    if len(parsed_line) == 1: \n",
    "        kannada_words = [parsed_line[0]]\n",
    "    \n",
    "    if len(parsed_line) > 1: \n",
    "        if parsed_line[-1][0] == '(': \n",
    "            kannada_words = parsed_line[:-1]\n",
    "\n",
    "    return kannada_words\n",
    "\n",
    "def parse_word_no_expand(word_data:str) -> list: \n",
    "    lines = word_data.strip().split('\\n') \n",
    "    lines = list(map(lambda x: x.strip(), lines))\n",
    "        \n",
    "    if len(lines) == 1 and lines[0] == '':\n",
    "        return [{'parse_output_type': ParseOutputType.EMPTY}]\n",
    "    elif len(lines) == 1: \n",
    "        if not is_kannada(lines[0]):\n",
    "            return [{'word': lines[0], 'parse_output_type': ParseOutputType.NOT_KANNADA}] # R1 \n",
    "        else: \n",
    "            return [{'word': lines[0], 'parse_output_type': ParseOutputType.NO_DATA}] # R5 \n",
    "\n",
    "    kannada_words = get_kannada_words(lines[0])\n",
    "\n",
    "    ret_data = [] \n",
    "\n",
    "    for word in kannada_words:\n",
    "        ret_data.append(\n",
    "            {\n",
    "                'word': word, \n",
    "                'parse_output_type': ParseOutputType.PARSE_SUCCESS, \n",
    "                'data': '\\n'.join(lines[1:])\n",
    "            }\n",
    "        )\n",
    "    \n",
    "    return ret_data \n",
    "\n",
    "def parse_word(word_data, parse_type=ParseOptions.NO_EXPAND):\n",
    "    if parse_type == ParseOptions.EXPAND:\n",
    "        raise NotImplementedError\n",
    "\n",
    "    if parse_type == ParseOptions.NO_EXPAND: \n",
    "        return parse_word_no_expand(word_data)\n",
    "\n",
    "    if word_data.strip() == '': \n",
    "        return [{'parse_output_type': ParseOutputType.EMPTY}]"
   ]
  },
  {
   "cell_type": "code",
   "execution_count": 6,
   "metadata": {},
   "outputs": [],
   "source": [
    "def test_flatten_list():\n",
    "    test_list = [\n",
    "        1, \n",
    "        [\n",
    "            [\n",
    "                [\n",
    "                    1, 2, [\n",
    "                        3, 4]\n",
    "                ], \"hello\" \n",
    "            ]\n",
    "        ], \"hi\", 3, 4, []\n",
    "    ]\n",
    "\n",
    "    assert (flatten_list(test_list) == [1, 1, 2, 3, 4, 'hello', 'hi', 3, 4]) \n",
    "\n",
    "def test_get_kannada_words(): \n",
    "    x = get_kannada_words('ಅಂಗೋಪಾಂಗ,ಪಾಂಗ (ಅಂಗ-ಉಪ-ಅಂಗ)')\n",
    "    assert(len(x) == 2) \n",
    "    assert(x == ['ಅಂಗೋಪಾಂಗ', 'ಪಾಂಗ'])\n",
    "\n",
    "test_flatten_list()\n",
    "test_get_kannada_words() "
   ]
  },
  {
   "cell_type": "code",
   "execution_count": 7,
   "metadata": {},
   "outputs": [
    {
     "data": {
      "text/plain": [
       "'ಆ\\nThe first letter of the alphabet\\n2. an interjection of surprise\\n3. when prefixed to nouns derived from Sanskrit beginning with a consontant, it denotes negation, as ಸತ್ಯ truth, ಅಸತ್ಯ untruth; before a vowel ಆ becomes ಅನ್, as ಅಂತ end, ಅನಂತ endless. \\n\\nಅಂಕ \\ns.\\nFight, war, battle, combat. \\n2. cock-fight \\n3. a mark, sign. \\n--ದಾಯೆ a combatant, wrestler. \\n--ದ ಬಾಕಿಯಾರ್ a field or place for cock-fighting. \\n--ಕಾದುನಿ to fight, to wrestle.\\n\\nಅಂಕಣ \\ns. \\nThe space between two cross beams or pillars (supporting a roof.)\\n2. a quadrate, square\\n3. a small room, compartment. \\n--ಪಾಡುನಿ to upset.\\n\\nಅಂಕಾಯನ \\ns. \\nA temple feast; see ಆಯನ.\\n\\nಅಂಕಿತ  \\ns. \\nA mark.  \\nadj.\\nmarked. \\n--ಪಾಡುನಿ to affix one’s signature to any writing. \\n2. to dedicate a work.\\n3. to put a mark.\\n\\nಅಂಕುಡೊಂಕು \\ns. \\nCrookedness. \\nadj. \\nbent, crooked.\\n\\nಅಂಕುಶ  \\ns. \\nA goad, hook used to drive an elephant with.\\n\\nಅಂಕಿಪುನಿ (ಅಂಕಿ) \\nv.a.\\nTo cipher, count, reckon (in writing).\\n\\nಅಂಕೆ \\ns. \\nA numerical figure.\\n\\nಅಂಕೋಲೆದ ಮರ \\ns. \\nAlangium decapetalum (hexapetalum).\\n\\nಅಂಗ್ \\ns. \\nGreediness, eagerness. \\n--ಬುಡ್ಪಿನಿ, --ಇಡ್ಪಿನಿ to be greedy, covetous; cf. ಅಂಗಿಡ್ಪಿನಿ \\n\\nಅಂಗ್ಸಾವುನಿ (ಅಂಗಿಸಾ)\\nv.a. \\nTo reproach, despise. \\n2. to disregard. \\n3. to arraign. \\nalso ಅಂಗಿಸಾವುನಿ, ಹಂಗ್ ಸಾವುನಿ.'"
      ]
     },
     "execution_count": 7,
     "metadata": {},
     "output_type": "execute_result"
    }
   ],
   "source": [
    "page_strs[1]"
   ]
  },
  {
   "cell_type": "code",
   "execution_count": 8,
   "metadata": {},
   "outputs": [],
   "source": [
    "raw_word_dict = {}\n",
    "\n",
    "for page_str in page_strs: \n",
    "    words_data = page_str.split('\\n\\n')\n",
    "\n",
    "    for word_data in words_data: \n",
    "        word_data = word_data.strip() \n",
    "        word_data = word_data.split('\\n')\n",
    "        word, meaning = word_data[0].strip(), '\\n'.join(word_data[1:])\n",
    "\n",
    "        raw_word_dict[word] = meaning \n",
    "        "
   ]
  },
  {
   "cell_type": "code",
   "execution_count": 12,
   "metadata": {},
   "outputs": [],
   "source": [
    "# sample html file \n",
    "\n",
    "for curr_letter in ['ಔ', 'ಅಂ', 'ಅಃ']: \n",
    "    html_file_content = ''\n",
    "\n",
    "    html_file_content += ''' \n",
    "        <!doctype html>\n",
    "        <html lang=\"en\">\n",
    "        <head>\n",
    "            <meta charset=\"UTF-8\" />\n",
    "            <title>manner</title>\n",
    "        </head>\n",
    "        <body>\n",
    "        <a href=\"..\">back to main</a> \n",
    "        <br> \n",
    "    '''\n",
    "\n",
    "    for word in raw_word_dict.keys():\n",
    "        \n",
    "        if len(word)>0 and word[:len(curr_letter)] == curr_letter: \n",
    "            html_file_content += '''\n",
    "                <h>{}</h> \n",
    "                <p>{}</p>\n",
    "                <br><br> \n",
    "            '''.format(word, raw_word_dict[word])\n",
    "\n",
    "    html_file_content += ''' \n",
    "        </body>\n",
    "        </html>\n",
    "    '''\n",
    "\n",
    "    with open('../pages/'+curr_letter+'.html', 'w') as f:\n",
    "        f.write(html_file_content)"
   ]
  }
 ],
 "metadata": {
  "kernelspec": {
   "display_name": "Python 3",
   "language": "python",
   "name": "python3"
  },
  "language_info": {
   "codemirror_mode": {
    "name": "ipython",
    "version": 3
   },
   "file_extension": ".py",
   "mimetype": "text/x-python",
   "name": "python",
   "nbconvert_exporter": "python",
   "pygments_lexer": "ipython3",
   "version": "3.12.3"
  }
 },
 "nbformat": 4,
 "nbformat_minor": 2
}
