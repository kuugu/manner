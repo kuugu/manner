{
 "cells": [
  {
   "cell_type": "code",
   "execution_count": 1,
   "metadata": {},
   "outputs": [],
   "source": [
    "from enum import Enum \n",
    "\n",
    "import re "
   ]
  },
  {
   "cell_type": "code",
   "execution_count": 2,
   "metadata": {},
   "outputs": [],
   "source": [
    "direct_copy_file = '/home/kuugu/Projects/manner/backend/data.txt'\n",
    "\n",
    "metadata_dict = {}"
   ]
  },
  {
   "cell_type": "code",
   "execution_count": 3,
   "metadata": {},
   "outputs": [],
   "source": [
    "data_str = '' \n",
    "\n",
    "with open(direct_copy_file, 'r') as f:\n",
    "    data_str = f.read() \n"
   ]
  },
  {
   "cell_type": "code",
   "execution_count": 5,
   "metadata": {},
   "outputs": [
    {
     "name": "stdout",
     "output_type": "stream",
     "text": [
      "0.72\n"
     ]
    }
   ],
   "source": [
    "# split the pages \n",
    "page_strs = re.split('----P[0-9][0-9][0-9]', data_str)\n",
    "page_strs = list(map(lambda x: x.strip(), page_strs))\n",
    "\n",
    "progress_percent = 100 * sum(map(lambda x: 0 if len(x) == 0 else 1, page_strs))/len(page_strs)\n",
    "progress_percent = round(progress_percent, 2)\n",
    "\n",
    "metadata_dict['project_progress_pct'] = progress_percent\n",
    "\n",
    "print (metadata_dict['project_progress_pct'])"
   ]
  },
  {
   "cell_type": "code",
   "execution_count": 5,
   "metadata": {},
   "outputs": [],
   "source": [
    "# parsing rules: \n",
    "# [R1] first line should be entirely in kannada, they are all kannada words \n",
    "# [R2] first line contains the word, if multiple forms are present they are comma separated \n",
    "# [R3] if the word is a verb, it might have the root word. root word is always in (brackets)\n",
    "# [R4] second line can be the type of word (verb, noun, etc..), if it's not, it is the start of the meaning\n",
    "# [R5] there cannot be only one line, this means there's no meaning provided \n",
    "\n",
    "word_type = {\n",
    "    's.': 'substantive', \n",
    "    'v.a.': 'verb active', \n",
    "    'v.n.': 'verb neuter', \n",
    "    'vlg.': 'vulgar word', \n",
    "    'fg.': 'figurative', \n",
    "}\n",
    "\n",
    "class ParseOptions(Enum): \n",
    "    EXPAND = 1 \n",
    "    NO_EXPAND = 2 \n",
    "\n",
    "class ParseOutputType(Enum): \n",
    "    EMPTY = 1 \n",
    "    NO_DATA = 2 \n",
    "    NOT_KANNADA = 3  \n",
    "    PARSE_SUCCESS = 4 \n",
    "\n",
    "def is_kannada(word): \n",
    "    for ch in word: \n",
    "        if not ((0x0C80 <= ch <= 0x0CFF) or (ch in (' ', ')', '('))): \n",
    "            return False\n",
    "    return True \n",
    "\n",
    "def flatten_list(nested_list: list): \n",
    "    ret_list = [] \n",
    "\n",
    "    if len(nested_list) == 0:\n",
    "        return ret_list \n",
    "    else: \n",
    "        for elem in nested_list: \n",
    "            if type(elem) == list:\n",
    "                ret_list = ret_list + flatten_list(elem) \n",
    "            else: \n",
    "                ret_list.append(elem) \n",
    "    return ret_list\n",
    "\n",
    "\n",
    "def get_kannada_words(line) -> list[str]: \n",
    "    kannada_words = [] \n",
    "\n",
    "    parsed_line = line.split()\n",
    "    parsed_line = flatten_list(list(map(lambda x: x.split(','), parsed_line)))\n",
    "    parsed_line = list(filter(lambda x: len(x)>0, parsed_line))\n",
    "\n",
    "    # NOTE (kuugu): I am assuming the data is correct here \n",
    "    #               we need to build the CFG checker later \n",
    "\n",
    "    if len(parsed_line) == 1: \n",
    "        kannada_words = [parsed_line[0]]\n",
    "    \n",
    "    if len(parsed_line) > 1: \n",
    "        if parsed_line[-1][0] == '(': \n",
    "            kannada_words = parsed_line[:-1]\n",
    "\n",
    "    return kannada_words\n",
    "\n",
    "def parse_word_no_expand(word_data:str) -> list: \n",
    "    lines = word_data.strip().split('\\n') \n",
    "    lines = list(map(lambda x: x.strip(), lines))\n",
    "        \n",
    "    if len(lines) == 1 and lines[0] == '':\n",
    "        return [{'parse_output_type': ParseOutputType.EMPTY}]\n",
    "    elif len(lines) == 1: \n",
    "        if not is_kannada(lines[0]):\n",
    "            return [{'word': lines[0], 'parse_output_type': ParseOutputType.NOT_KANNADA}] # R1 \n",
    "        else: \n",
    "            return [{'word': lines[0], 'parse_output_type': ParseOutputType.NO_DATA}] # R5 \n",
    "\n",
    "    kannada_words = get_kannada_words(lines[0])\n",
    "\n",
    "    ret_data = [] \n",
    "\n",
    "    for word in kannada_words:\n",
    "        ret_data.append(\n",
    "            {\n",
    "                'word': word, \n",
    "                'parse_output_type': ParseOutputType.PARSE_SUCCESS, \n",
    "                'data': '\\n'.join(lines[1:])\n",
    "            }\n",
    "        )\n",
    "    \n",
    "    return ret_data \n",
    "\n",
    "def parse_word(word_data, parse_type=ParseOptions.NO_EXPAND):\n",
    "    if parse_type == ParseOptions.EXPAND:\n",
    "        raise NotImplementedError\n",
    "\n",
    "    if parse_type == ParseOptions.NO_EXPAND: \n",
    "        return parse_word_no_expand(word_data)\n",
    "\n",
    "    if word_data.strip() == '': \n",
    "        return [{'parse_output_type': ParseOutputType.EMPTY}]\n",
    "\n",
    " "
   ]
  },
  {
   "cell_type": "code",
   "execution_count": 8,
   "metadata": {},
   "outputs": [],
   "source": [
    "def test_flatten_list():\n",
    "    test_list = [\n",
    "        1, \n",
    "        [\n",
    "            [\n",
    "                [\n",
    "                    1, 2, [\n",
    "                        3, 4]\n",
    "                ], \"hello\" \n",
    "            ]\n",
    "        ], \"hi\", 3, 4, []\n",
    "    ]\n",
    "\n",
    "    assert (flatten_list(test_list) == [1, 1, 2, 3, 4, 'hello', 'hi', 3, 4]) \n",
    "\n",
    "def test_get_kannada_words(): \n",
    "    x = get_kannada_words('ಅಂಗೋಪಾಂಗ,ಪಾಂಗ (ಅಂಗ-ಉಪ-ಅಂಗ)')\n",
    "    assert(len(x) == 2) \n",
    "    assert(x == ['ಅಂಗೋಪಾಂಗ', 'ಪಾಂಗ'])\n",
    "\n",
    "test_flatten_list()\n",
    "test_get_kannada_words() "
   ]
  },
  {
   "cell_type": "code",
   "execution_count": 17,
   "metadata": {},
   "outputs": [
    {
     "name": "stdout",
     "output_type": "stream",
     "text": [
      "63\n"
     ]
    }
   ],
   "source": [
    "word_cnt = 0\n",
    "\n",
    "for page_str in page_strs: \n",
    "    words_data = page_str.split('\\n\\n')\n",
    "\n",
    "    # print (words_data)\n",
    "\n",
    "    # for word_data in words_data[:3]: \n",
    "    #     print (parse_word(word_data)) \n",
    "\n",
    "    for word_data in words_data: \n",
    "        for word in parse_word(word_data): \n",
    "            if word['parse_output_type'] == ParseOutputType.PARSE_SUCCESS: \n",
    "                word_cnt += 1 \n",
    "print (word_cnt) "
   ]
  }
 ],
 "metadata": {
  "kernelspec": {
   "display_name": "Python 3",
   "language": "python",
   "name": "python3"
  },
  "language_info": {
   "codemirror_mode": {
    "name": "ipython",
    "version": 3
   },
   "file_extension": ".py",
   "mimetype": "text/x-python",
   "name": "python",
   "nbconvert_exporter": "python",
   "pygments_lexer": "ipython3",
   "version": "3.12.3"
  }
 },
 "nbformat": 4,
 "nbformat_minor": 2
}
