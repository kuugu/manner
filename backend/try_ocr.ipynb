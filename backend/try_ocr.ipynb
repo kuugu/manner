{
 "cells": [
  {
   "cell_type": "code",
   "execution_count": 1,
   "metadata": {},
   "outputs": [
    {
     "data": {
      "text/plain": [
       "['Requirement already satisfied: PyMuPDF in /home/kuugu/Projects/manner/.venv/lib/python3.12/site-packages (1.25.5)']"
      ]
     },
     "execution_count": 1,
     "metadata": {},
     "output_type": "execute_result"
    }
   ],
   "source": [
    "!!pip install PyMuPDF "
   ]
  },
  {
   "cell_type": "code",
   "execution_count": 2,
   "metadata": {},
   "outputs": [],
   "source": [
    "import json \n",
    "import fitz\n",
    "import os \n",
    "\n",
    "from subprocess import call \n",
    "\n",
    "os.environ['TESSDATA_PREFIX'] = '/home/kuugu/Projects/yaksha/ocr/tessdata'"
   ]
  },
  {
   "cell_type": "code",
   "execution_count": 3,
   "metadata": {},
   "outputs": [],
   "source": [
    "\n",
    "def pdf_to_images(pdf_file_path, out_folder):\n",
    "    pdf_file_name = pdf_file_path.split('/')[-1]\n",
    "\n",
    "    doc = fitz.open(pdf_file_path)\n",
    "\n",
    "    for page_no in range(doc.page_count)[115:125]:  \n",
    "        page = doc.load_page(page_no)\n",
    "        pix = page.get_pixmap(dpi=300)\n",
    "\n",
    "        if not os.path.exists(out_folder + \"/\" + pdf_file_name):\n",
    "            os.makedirs(out_folder + \"/\" + pdf_file_name)\n",
    "\n",
    "        output = out_folder + \"/\" + pdf_file_name + \"/\" + str(page_no) + \".png\"\n",
    "        pix.save(output)\n",
    "\n",
    "        # get text from page \n",
    "        call('tesseract {output} {output} -l eng'.format(output=output), shell=True)\n",
    "\n",
    "    doc.close()\n"
   ]
  },
  {
   "cell_type": "code",
   "execution_count": null,
   "metadata": {},
   "outputs": [],
   "source": [
    "pdf_file_path = '/home/kuugu/Downloads/tuluenglishdicti00mnrich.pdf'\n",
    "out_folder    = '/home/kuugu/Projects/manner/backend'\n",
    "\n",
    "pdf_to_images(pdf_file_path, out_folder)"
   ]
  }
 ],
 "metadata": {
  "kernelspec": {
   "display_name": "Python 3",
   "language": "python",
   "name": "python3"
  },
  "language_info": {
   "codemirror_mode": {
    "name": "ipython",
    "version": 3
   },
   "file_extension": ".py",
   "mimetype": "text/x-python",
   "name": "python",
   "nbconvert_exporter": "python",
   "pygments_lexer": "ipython3",
   "version": "3.12.3"
  }
 },
 "nbformat": 4,
 "nbformat_minor": 2
}
